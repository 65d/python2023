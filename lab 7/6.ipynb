{
 "cells": [
  {
   "cell_type": "code",
   "execution_count": 94,
   "metadata": {},
   "outputs": [],
   "source": [
    "from datetime import datetime\n",
    "log_history = []\n",
    "\n",
    "def log(func):\n",
    "    def wrapper(*args, **kwargs):\n",
    "        use_date = datetime.now()\n",
    "        func_name = func.__name__\n",
    "        arguments = args + tuple(kwargs.items())\n",
    "        result = func(*args, **kwargs)\n",
    "\n",
    "        log_entry = {\n",
    "            'timestamp': use_date,\n",
    "            'functiont': func_name,\n",
    "            'arguments': arguments,\n",
    "            'result': result\n",
    "        }\n",
    "        log_history.append(log_entry)\n",
    "        return result\n",
    "\n",
    "\n",
    "    return wrapper\n",
    "\n",
    "def get_logs():\n",
    "    for log_entry in log_history:\n",
    "        yield log_entry\n",
    "\n",
    "def save_logs_to_file(filename):\n",
    "    with open(filename, 'w') as file:\n",
    "        for entry in log_history:\n",
    "            file.write(str(entry) + '\\n')\n",
    "\n",
    "\n"
   ]
  },
  {
   "cell_type": "code",
   "execution_count": 99,
   "metadata": {},
   "outputs": [
    {
     "name": "stdout",
     "output_type": "stream",
     "text": [
      "{'timestamp': datetime.datetime(2023, 12, 6, 19, 17, 28, 760651), 'functiont': 'multiply', 'arguments': (3, 4), 'result': 12}\n",
      "{'timestamp': datetime.datetime(2023, 12, 6, 19, 17, 28, 760651), 'functiont': 'multiply', 'arguments': (5, 6), 'result': 30}\n"
     ]
    }
   ],
   "source": [
    "@log\n",
    "def multiply(a, b):\n",
    "    return a * b\n",
    "\n",
    "multiply(3, 4)\n",
    "multiply(5, 6)\n",
    "multiply(4, 9)\n",
    "\n",
    "\n",
    "logs = get_logs()\n",
    "\n",
    "print(next(logs))\n",
    "print(next(logs))"
   ]
  },
  {
   "cell_type": "code",
   "execution_count": 100,
   "metadata": {},
   "outputs": [],
   "source": [
    "save_logs_to_file('log.txt')"
   ]
  }
 ],
 "metadata": {
  "kernelspec": {
   "display_name": "Python 3",
   "language": "python",
   "name": "python3"
  },
  "language_info": {
   "codemirror_mode": {
    "name": "ipython",
    "version": 3
   },
   "file_extension": ".py",
   "mimetype": "text/x-python",
   "name": "python",
   "nbconvert_exporter": "python",
   "pygments_lexer": "ipython3",
   "version": "3.9.13"
  }
 },
 "nbformat": 4,
 "nbformat_minor": 2
}
